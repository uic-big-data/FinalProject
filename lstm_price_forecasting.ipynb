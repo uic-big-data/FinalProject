{
  "nbformat": 4,
  "nbformat_minor": 0,
  "metadata": {
    "colab": {
      "provenance": []
    },
    "kernelspec": {
      "name": "python3",
      "display_name": "Python 3"
    },
    "language_info": {
      "name": "python"
    }
  },
  "cells": [
    {
      "cell_type": "code",
      "source": [
        "pip install transformers\n",
        "pip install snscrape\n",
        "pip install cryptocmd"
      ],
      "metadata": {
        "id": "hKfirqZ-J4Nh"
      },
      "execution_count": null,
      "outputs": []
    },
    {
      "cell_type": "code",
      "source": [
        "import snscrape.modules.twitter as sntwitter\n",
        "import numpy as np\n",
        "import matplotlib.pyplot as plt\n",
        "import pandas as pd\n",
        "import torch\n",
        "import torch.nn as nn\n",
        "from torch.autograd import Variable\n",
        "from sklearn.preprocessing import MinMaxScaler\n",
        "import datetime"
      ],
      "metadata": {
        "id": "dhpR-haUKrbO"
      },
      "execution_count": null,
      "outputs": []
    },
    {
      "cell_type": "code",
      "source": [
        "# tweets_df = pd.read_csv('/content/doge_2022-01-01_2022-12-31.csv')"
      ],
      "metadata": {
        "id": "rgjuV-rP4DC3"
      },
      "execution_count": null,
      "outputs": []
    },
    {
      "cell_type": "code",
      "source": [
        "from transformers import AutoModelForSequenceClassification\n",
        "from transformers import TFAutoModelForSequenceClassification\n",
        "from transformers import AutoTokenizer, AutoConfig\n",
        "import numpy as np\n",
        "from scipy.special import softmax\n",
        "\n",
        "# Preprocess text (username and link placeholders)\n",
        "def preprocess(text):\n",
        "    new_text = []\n",
        "    for t in text.split(\" \"):\n",
        "        t = '@user' if t.startswith('@') and len(t) > 1 else t\n",
        "        t = 'http' if t.startswith('http') else t\n",
        "        new_text.append(t)\n",
        "    return \" \".join(new_text)\n",
        "\n",
        "# find prediction\n",
        "def prediction(text):\n",
        "  if text\n",
        "  text = preprocess(text)\n",
        "  encoded_input = tokenizer(text, return_tensors='pt')\n",
        "  output = model(**encoded_input)\n",
        "  scores = output[0][0].detach().numpy()\n",
        "  scores = softmax(scores)\n",
        "  return scores[0],scores[1],scores[2]\n",
        "\n",
        "MODEL = f\"cardiffnlp/twitter-roberta-base-sentiment-latest\"\n",
        "# MODEL = f\"cardiffnlp/twitter-xlm-roberta-base-sentiment\"\n",
        "tokenizer = AutoTokenizer.from_pretrained(MODEL)\n",
        "config = AutoConfig.from_pretrained(MODEL)\n",
        "# PT\n",
        "model = AutoModelForSequenceClassification.from_pretrained(MODEL)\n",
        "model.save_pretrained(MODEL)"
      ],
      "metadata": {
        "id": "JOcXb3VlJzwT",
        "colab": {
          "base_uri": "https://localhost:8080/"
        },
        "outputId": "bd9efa6c-7ec5-40a2-ffab-f025037b5bb5"
      },
      "execution_count": null,
      "outputs": [
        {
          "output_type": "stream",
          "name": "stderr",
          "text": [
            "Some weights of the model checkpoint at cardiffnlp/twitter-roberta-base-sentiment-latest were not used when initializing RobertaForSequenceClassification: ['roberta.pooler.dense.weight', 'roberta.pooler.dense.bias']\n",
            "- This IS expected if you are initializing RobertaForSequenceClassification from the checkpoint of a model trained on another task or with another architecture (e.g. initializing a BertForSequenceClassification model from a BertForPreTraining model).\n",
            "- This IS NOT expected if you are initializing RobertaForSequenceClassification from the checkpoint of a model that you expect to be exactly identical (initializing a BertForSequenceClassification model from a BertForSequenceClassification model).\n"
          ]
        }
      ]
    },
    {
      "cell_type": "code",
      "source": [
        "tweets_df['Sentiment'] = tweets_df['Tweet'].apply(prediction)\n",
        "tweets_df[['Negative','Neutral','Positive']] = pd.DataFrame(tweets_df['Sentiment'].tolist(), index=tweets_df.index)"
      ],
      "metadata": {
        "id": "tJG8JQKHKHXF"
      },
      "execution_count": null,
      "outputs": []
    },
    {
      "cell_type": "code",
      "source": [
        "# replacing na values in college with No college\n",
        "tweets_df[\"Tweet\"].fillna(\"\", inplace = True)"
      ],
      "metadata": {
        "id": "fVrqhGByKIbk"
      },
      "execution_count": null,
      "outputs": []
    },
    {
      "cell_type": "code",
      "source": [
        "tweets_df[\"Tweet\"].info()"
      ],
      "metadata": {
        "id": "GdrmSS28UtEx"
      },
      "execution_count": null,
      "outputs": []
    },
    {
      "cell_type": "code",
      "source": [
        "# tweets_df.to_csv('doge_2022_with_sentiments.csv') "
      ],
      "metadata": {
        "id": "tgKikUg69GKv"
      },
      "execution_count": null,
      "outputs": []
    },
    {
      "cell_type": "code",
      "source": [
        "agg_df = tweets_df.groupby(['Date'])[['Negative','Positive','Neutral']].mean()"
      ],
      "metadata": {
        "id": "7nDr0KAE69fi"
      },
      "execution_count": null,
      "outputs": []
    },
    {
      "cell_type": "code",
      "source": [
        "from cryptocmd import CmcScraper\n",
        "\n",
        "# initialise scraper with time interval\n",
        "scraper = CmcScraper(\"DOGE\", \"01-01-2022\", \"31-12-2022\")\n",
        "\n",
        "# get raw data as list of list\n",
        "headers, data = scraper.get_data()\n",
        "\n",
        "# get data in a json format\n",
        "json_data = scraper.get_data(\"json\")\n",
        "\n",
        "# export the data to csv\n",
        "scraper.export(\"csv\")\n",
        "\n",
        "# get dataframe for the data\n",
        "price_df = scraper.get_dataframe()"
      ],
      "metadata": {
        "id": "15_diZXhqTrq"
      },
      "execution_count": null,
      "outputs": []
    },
    {
      "cell_type": "code",
      "source": [
        "agg_df = agg_df.reset_index()"
      ],
      "metadata": {
        "id": "qkyewXT67Jra"
      },
      "execution_count": null,
      "outputs": []
    },
    {
      "cell_type": "code",
      "source": [
        "agg_df['Date'] = pd.to_datetime(agg_df.Date)"
      ],
      "metadata": {
        "id": "AoLCS1um7RLX"
      },
      "execution_count": null,
      "outputs": []
    },
    {
      "cell_type": "code",
      "source": [
        "agg_df['Date']"
      ],
      "metadata": {
        "colab": {
          "base_uri": "https://localhost:8080/"
        },
        "id": "Jd5-ARE-AiCv",
        "outputId": "eca1d599-82d7-4cf8-9998-79eadfd256f7"
      },
      "execution_count": null,
      "outputs": [
        {
          "output_type": "execute_result",
          "data": {
            "text/plain": [
              "0     2022-01-01\n",
              "1     2022-01-02\n",
              "2     2022-01-03\n",
              "3     2022-01-04\n",
              "4     2022-01-05\n",
              "         ...    \n",
              "359   2022-12-26\n",
              "360   2022-12-27\n",
              "361   2022-12-28\n",
              "362   2022-12-29\n",
              "363   2022-12-30\n",
              "Name: Date, Length: 364, dtype: datetime64[ns]"
            ]
          },
          "metadata": {},
          "execution_count": 30
        }
      ]
    },
    {
      "cell_type": "code",
      "source": [
        "price_df['Date']"
      ],
      "metadata": {
        "colab": {
          "base_uri": "https://localhost:8080/"
        },
        "id": "ortXhgAx-ELf",
        "outputId": "4c5c8dc4-8fc8-468e-e83e-72626e974b29"
      },
      "execution_count": null,
      "outputs": [
        {
          "output_type": "execute_result",
          "data": {
            "text/plain": [
              "0     2022-12-31\n",
              "1     2022-12-30\n",
              "2     2022-12-29\n",
              "3     2022-12-28\n",
              "4     2022-12-27\n",
              "         ...    \n",
              "360   2022-01-05\n",
              "361   2022-01-04\n",
              "362   2022-01-03\n",
              "363   2022-01-02\n",
              "364   2022-01-01\n",
              "Name: Date, Length: 365, dtype: datetime64[ns]"
            ]
          },
          "metadata": {},
          "execution_count": 31
        }
      ]
    },
    {
      "cell_type": "code",
      "source": [
        "final_df = price_df.merge(agg_df,on='Date')"
      ],
      "metadata": {
        "id": "DUBNKKzW60-e"
      },
      "execution_count": null,
      "outputs": []
    },
    {
      "cell_type": "code",
      "source": [
        "# final_df = final_df[['Date', 'Open', 'High', 'Low','Volume', 'likecount', 'Negative', 'Positive', 'Neutral','Close']]\n",
        "# final_df = final_df[['Date','likecount', 'Negative', 'Positive', 'Neutral','Close']]\n",
        "final_df = final_df[['Date','Volume','Market Cap', 'Negative', 'Positive', 'Neutral','Close']]"
      ],
      "metadata": {
        "id": "6kpu-ShEDkqv"
      },
      "execution_count": null,
      "outputs": []
    },
    {
      "cell_type": "code",
      "source": [
        "final_df= final_df.sort_values('Date')"
      ],
      "metadata": {
        "id": "iCu9Oh1yF0zz"
      },
      "execution_count": null,
      "outputs": []
    },
    {
      "cell_type": "code",
      "source": [
        "final_df = final_df.set_index('Date')"
      ],
      "metadata": {
        "id": "ngYKmWDkGQRQ"
      },
      "execution_count": null,
      "outputs": []
    },
    {
      "cell_type": "code",
      "source": [
        "# final_df.to_csv('forecast2021_1.csv')"
      ],
      "metadata": {
        "id": "Xqq9mtukzspk"
      },
      "execution_count": null,
      "outputs": []
    },
    {
      "cell_type": "code",
      "source": [
        "train_df = final_df[['Open', 'High', 'Low', 'Close', 'likecount', 'Negative', 'Positive', 'Neutral']]"
      ],
      "metadata": {
        "id": "CtWBiRpx9bSQ"
      },
      "execution_count": null,
      "outputs": []
    },
    {
      "cell_type": "code",
      "source": [
        "final_df.head()"
      ],
      "metadata": {
        "colab": {
          "base_uri": "https://localhost:8080/",
          "height": 237
        },
        "id": "yxlAYQWdLJLV",
        "outputId": "48e977f6-f260-4ca1-cf9a-0aae83e29422"
      },
      "execution_count": null,
      "outputs": [
        {
          "output_type": "execute_result",
          "data": {
            "text/plain": [
              "                  Volume    Market Cap  Negative  Positive   Neutral     Close\n",
              "Date                                                                          \n",
              "2022-01-01  3.713361e+08  2.295674e+10  0.070178  0.605517  0.324304  0.173035\n",
              "2022-01-02  3.910419e+08  2.313818e+10  0.067008  0.616461  0.316531  0.174403\n",
              "2022-01-03  5.059004e+08  2.256573e+10  0.077161  0.457693  0.465146  0.170088\n",
              "2022-01-04  5.419229e+08  2.239516e+10  0.088715  0.475401  0.435884  0.168803\n",
              "2022-01-05  9.940868e+08  2.115041e+10  0.028029  0.610347  0.361624  0.159420"
            ],
            "text/html": [
              "\n",
              "  <div id=\"df-59622310-2dec-4ffb-b4dd-2a654b397abe\">\n",
              "    <div class=\"colab-df-container\">\n",
              "      <div>\n",
              "<style scoped>\n",
              "    .dataframe tbody tr th:only-of-type {\n",
              "        vertical-align: middle;\n",
              "    }\n",
              "\n",
              "    .dataframe tbody tr th {\n",
              "        vertical-align: top;\n",
              "    }\n",
              "\n",
              "    .dataframe thead th {\n",
              "        text-align: right;\n",
              "    }\n",
              "</style>\n",
              "<table border=\"1\" class=\"dataframe\">\n",
              "  <thead>\n",
              "    <tr style=\"text-align: right;\">\n",
              "      <th></th>\n",
              "      <th>Volume</th>\n",
              "      <th>Market Cap</th>\n",
              "      <th>Negative</th>\n",
              "      <th>Positive</th>\n",
              "      <th>Neutral</th>\n",
              "      <th>Close</th>\n",
              "    </tr>\n",
              "    <tr>\n",
              "      <th>Date</th>\n",
              "      <th></th>\n",
              "      <th></th>\n",
              "      <th></th>\n",
              "      <th></th>\n",
              "      <th></th>\n",
              "      <th></th>\n",
              "    </tr>\n",
              "  </thead>\n",
              "  <tbody>\n",
              "    <tr>\n",
              "      <th>2022-01-01</th>\n",
              "      <td>3.713361e+08</td>\n",
              "      <td>2.295674e+10</td>\n",
              "      <td>0.070178</td>\n",
              "      <td>0.605517</td>\n",
              "      <td>0.324304</td>\n",
              "      <td>0.173035</td>\n",
              "    </tr>\n",
              "    <tr>\n",
              "      <th>2022-01-02</th>\n",
              "      <td>3.910419e+08</td>\n",
              "      <td>2.313818e+10</td>\n",
              "      <td>0.067008</td>\n",
              "      <td>0.616461</td>\n",
              "      <td>0.316531</td>\n",
              "      <td>0.174403</td>\n",
              "    </tr>\n",
              "    <tr>\n",
              "      <th>2022-01-03</th>\n",
              "      <td>5.059004e+08</td>\n",
              "      <td>2.256573e+10</td>\n",
              "      <td>0.077161</td>\n",
              "      <td>0.457693</td>\n",
              "      <td>0.465146</td>\n",
              "      <td>0.170088</td>\n",
              "    </tr>\n",
              "    <tr>\n",
              "      <th>2022-01-04</th>\n",
              "      <td>5.419229e+08</td>\n",
              "      <td>2.239516e+10</td>\n",
              "      <td>0.088715</td>\n",
              "      <td>0.475401</td>\n",
              "      <td>0.435884</td>\n",
              "      <td>0.168803</td>\n",
              "    </tr>\n",
              "    <tr>\n",
              "      <th>2022-01-05</th>\n",
              "      <td>9.940868e+08</td>\n",
              "      <td>2.115041e+10</td>\n",
              "      <td>0.028029</td>\n",
              "      <td>0.610347</td>\n",
              "      <td>0.361624</td>\n",
              "      <td>0.159420</td>\n",
              "    </tr>\n",
              "  </tbody>\n",
              "</table>\n",
              "</div>\n",
              "      <button class=\"colab-df-convert\" onclick=\"convertToInteractive('df-59622310-2dec-4ffb-b4dd-2a654b397abe')\"\n",
              "              title=\"Convert this dataframe to an interactive table.\"\n",
              "              style=\"display:none;\">\n",
              "        \n",
              "  <svg xmlns=\"http://www.w3.org/2000/svg\" height=\"24px\"viewBox=\"0 0 24 24\"\n",
              "       width=\"24px\">\n",
              "    <path d=\"M0 0h24v24H0V0z\" fill=\"none\"/>\n",
              "    <path d=\"M18.56 5.44l.94 2.06.94-2.06 2.06-.94-2.06-.94-.94-2.06-.94 2.06-2.06.94zm-11 1L8.5 8.5l.94-2.06 2.06-.94-2.06-.94L8.5 2.5l-.94 2.06-2.06.94zm10 10l.94 2.06.94-2.06 2.06-.94-2.06-.94-.94-2.06-.94 2.06-2.06.94z\"/><path d=\"M17.41 7.96l-1.37-1.37c-.4-.4-.92-.59-1.43-.59-.52 0-1.04.2-1.43.59L10.3 9.45l-7.72 7.72c-.78.78-.78 2.05 0 2.83L4 21.41c.39.39.9.59 1.41.59.51 0 1.02-.2 1.41-.59l7.78-7.78 2.81-2.81c.8-.78.8-2.07 0-2.86zM5.41 20L4 18.59l7.72-7.72 1.47 1.35L5.41 20z\"/>\n",
              "  </svg>\n",
              "      </button>\n",
              "      \n",
              "  <style>\n",
              "    .colab-df-container {\n",
              "      display:flex;\n",
              "      flex-wrap:wrap;\n",
              "      gap: 12px;\n",
              "    }\n",
              "\n",
              "    .colab-df-convert {\n",
              "      background-color: #E8F0FE;\n",
              "      border: none;\n",
              "      border-radius: 50%;\n",
              "      cursor: pointer;\n",
              "      display: none;\n",
              "      fill: #1967D2;\n",
              "      height: 32px;\n",
              "      padding: 0 0 0 0;\n",
              "      width: 32px;\n",
              "    }\n",
              "\n",
              "    .colab-df-convert:hover {\n",
              "      background-color: #E2EBFA;\n",
              "      box-shadow: 0px 1px 2px rgba(60, 64, 67, 0.3), 0px 1px 3px 1px rgba(60, 64, 67, 0.15);\n",
              "      fill: #174EA6;\n",
              "    }\n",
              "\n",
              "    [theme=dark] .colab-df-convert {\n",
              "      background-color: #3B4455;\n",
              "      fill: #D2E3FC;\n",
              "    }\n",
              "\n",
              "    [theme=dark] .colab-df-convert:hover {\n",
              "      background-color: #434B5C;\n",
              "      box-shadow: 0px 1px 3px 1px rgba(0, 0, 0, 0.15);\n",
              "      filter: drop-shadow(0px 1px 2px rgba(0, 0, 0, 0.3));\n",
              "      fill: #FFFFFF;\n",
              "    }\n",
              "  </style>\n",
              "\n",
              "      <script>\n",
              "        const buttonEl =\n",
              "          document.querySelector('#df-59622310-2dec-4ffb-b4dd-2a654b397abe button.colab-df-convert');\n",
              "        buttonEl.style.display =\n",
              "          google.colab.kernel.accessAllowed ? 'block' : 'none';\n",
              "\n",
              "        async function convertToInteractive(key) {\n",
              "          const element = document.querySelector('#df-59622310-2dec-4ffb-b4dd-2a654b397abe');\n",
              "          const dataTable =\n",
              "            await google.colab.kernel.invokeFunction('convertToInteractive',\n",
              "                                                     [key], {});\n",
              "          if (!dataTable) return;\n",
              "\n",
              "          const docLinkHtml = 'Like what you see? Visit the ' +\n",
              "            '<a target=\"_blank\" href=https://colab.research.google.com/notebooks/data_table.ipynb>data table notebook</a>'\n",
              "            + ' to learn more about interactive tables.';\n",
              "          element.innerHTML = '';\n",
              "          dataTable['output_type'] = 'display_data';\n",
              "          await google.colab.output.renderOutput(dataTable, element);\n",
              "          const docLink = document.createElement('div');\n",
              "          docLink.innerHTML = docLinkHtml;\n",
              "          element.appendChild(docLink);\n",
              "        }\n",
              "      </script>\n",
              "    </div>\n",
              "  </div>\n",
              "  "
            ]
          },
          "metadata": {},
          "execution_count": 36
        }
      ]
    },
    {
      "cell_type": "code",
      "source": [
        "from sklearn.model_selection import train_test_split\n",
        "X_train, X_test, y_train, y_test = train_test_split(final_df[['Volume','Market Cap','Negative', 'Positive', 'Neutral','Close']], final_df['Close'], test_size=0.30, shuffle=False)"
      ],
      "metadata": {
        "id": "PRsrage1Mn53"
      },
      "execution_count": null,
      "outputs": []
    },
    {
      "cell_type": "code",
      "source": [
        "len(X_train) + len(X_test)"
      ],
      "metadata": {
        "colab": {
          "base_uri": "https://localhost:8080/"
        },
        "id": "uBxOhieahB7J",
        "outputId": "fb69a778-1961-4e0e-87b2-468cb30344ec"
      },
      "execution_count": null,
      "outputs": [
        {
          "output_type": "execute_result",
          "data": {
            "text/plain": [
              "364"
            ]
          },
          "metadata": {},
          "execution_count": 38
        }
      ]
    },
    {
      "cell_type": "code",
      "source": [
        "import torch\n",
        "import torch.nn as nn\n",
        "import torch.optim as optim\n",
        "from torch.utils.data import Dataset, DataLoader\n",
        "\n",
        "class MultivariateDataset(Dataset):\n",
        "    def __init__(self, data, seq_length):\n",
        "        self.seq_length = seq_length\n",
        "        self.data = torch.tensor(data, dtype=torch.float32)\n",
        "    \n",
        "    def __len__(self):\n",
        "        return len(self.data) - self.seq_length\n",
        "    \n",
        "    def __getitem__(self, idx):\n",
        "        return self.data[idx:idx+self.seq_length][:-1], self.data[idx+self.seq_length][-1]\n",
        "\n",
        "class MultivariateTestDataset(Dataset):\n",
        "    def __init__(self, data, seq_length):\n",
        "        self.seq_length = seq_length\n",
        "        self.data = torch.tensor(data, dtype=torch.float32)\n",
        "    \n",
        "    def __len__(self):\n",
        "        return len(self.data) - self.seq_length\n",
        "    \n",
        "    def __getitem__(self, idx):\n",
        "        return self.data[idx+self.seq_length][1:3]\n",
        "\n",
        "class MultivariateLSTM(nn.Module):\n",
        "    def __init__(self, input_dim, hidden_dim, output_dim):\n",
        "        super(MultivariateLSTM, self).__init__()\n",
        "        self.hidden_dim = hidden_dim\n",
        "        self.lstm = nn.LSTM(input_dim, hidden_dim, batch_first=True)\n",
        "        self.linear = nn.Linear(hidden_dim, output_dim)\n",
        "    \n",
        "    def forward(self, x):\n",
        "        lstm_out, _ = self.lstm(x)\n",
        "        out = self.linear(lstm_out[:, -1, :])\n",
        "        return out\n",
        "\n",
        "# Set device\n",
        "device = torch.device(\"cuda\" if torch.cuda.is_available() else \"cpu\")\n",
        "\n",
        "# Prepare data\n",
        "sc = MinMaxScaler()\n",
        "# Convert the DataFrame to a list\n",
        "df_list = X_train.values.tolist()\n",
        "# y_list = y_train.values.tolist()\n",
        "data = sc.fit_transform(df_list)\n",
        "test_list = X_test.values.tolist()\n",
        "# testy_list = y_test.values.tolist()\n",
        "data = sc.fit_transform(df_list)\n",
        "test_data = sc.transform(test_list)\n",
        "\n",
        "# Creating a separate scaler that works on a single column for scaling predictions\n",
        "scaler_pred = MinMaxScaler()\n",
        "Close_list = final_df['Close'].values.reshape(-1,1)\n",
        "Close_scaled = scaler_pred.fit_transform(Close_list)\n",
        "\n",
        "# data = df_list\n",
        "seq_length = 7\n",
        "batch_size = 1\n",
        "train_set = MultivariateDataset(data,seq_length)\n",
        "train_loader = DataLoader(train_set, batch_size=batch_size, shuffle=False)\n",
        "\n",
        "#test_data\n",
        "test_set = MultivariateDataset(test_data,seq_length)\n",
        "test_loader = DataLoader(test_set, batch_size=batch_size, shuffle=False)\n",
        "\n",
        "# Initialize model\n",
        "input_dim = len(data[0])\n",
        "hidden_dim = 100\n",
        "output_dim = 1\n",
        "lstm_model = MultivariateLSTM(input_dim, hidden_dim, output_dim).to(device)\n",
        "\n",
        "# Define loss function and optimizer\n",
        "criterion = nn.MSELoss()\n",
        "optimizer = optim.Adam(lstm_model.parameters(), lr=0.001)\n",
        "\n",
        "# Train model\n",
        "num_epochs = 100\n",
        "for epoch in range(num_epochs):\n",
        "    running_loss = 0.0\n",
        "    for i, (inputs, targets) in enumerate(train_loader):\n",
        "        inputs, targets = inputs.to(device), targets.to(device)\n",
        "        optimizer.zero_grad()\n",
        "        outputs = lstm_model(inputs)\n",
        "        loss = criterion(outputs, targets.unsqueeze(1))\n",
        "        loss.backward()\n",
        "        optimizer.step()\n",
        "        running_loss += loss.item()\n",
        "    epoch_loss = running_loss / len(train_loader)\n",
        "    print(f\"Epoch {epoch+1}/{num_epochs} - Loss: {epoch_loss:.4f}\")\n"
      ],
      "metadata": {
        "colab": {
          "base_uri": "https://localhost:8080/"
        },
        "id": "m8B5G4IHvX1j",
        "outputId": "a7efd1c9-5af4-47f5-fa9f-1dda288ddd70"
      },
      "execution_count": null,
      "outputs": [
        {
          "output_type": "stream",
          "name": "stdout",
          "text": [
            "Epoch 1/100 - Loss: 0.0274\n",
            "Epoch 2/100 - Loss: 0.0209\n",
            "Epoch 3/100 - Loss: 0.0199\n",
            "Epoch 4/100 - Loss: 0.0177\n",
            "Epoch 5/100 - Loss: 0.0163\n",
            "Epoch 6/100 - Loss: 0.0146\n",
            "Epoch 7/100 - Loss: 0.0132\n",
            "Epoch 8/100 - Loss: 0.0119\n",
            "Epoch 9/100 - Loss: 0.0107\n",
            "Epoch 10/100 - Loss: 0.0098\n",
            "Epoch 11/100 - Loss: 0.0088\n",
            "Epoch 12/100 - Loss: 0.0082\n",
            "Epoch 13/100 - Loss: 0.0075\n",
            "Epoch 14/100 - Loss: 0.0071\n",
            "Epoch 15/100 - Loss: 0.0067\n",
            "Epoch 16/100 - Loss: 0.0064\n",
            "Epoch 17/100 - Loss: 0.0061\n",
            "Epoch 18/100 - Loss: 0.0059\n",
            "Epoch 19/100 - Loss: 0.0057\n",
            "Epoch 20/100 - Loss: 0.0055\n",
            "Epoch 21/100 - Loss: 0.0054\n",
            "Epoch 22/100 - Loss: 0.0052\n",
            "Epoch 23/100 - Loss: 0.0051\n",
            "Epoch 24/100 - Loss: 0.0050\n",
            "Epoch 25/100 - Loss: 0.0049\n",
            "Epoch 26/100 - Loss: 0.0048\n",
            "Epoch 27/100 - Loss: 0.0047\n",
            "Epoch 28/100 - Loss: 0.0046\n",
            "Epoch 29/100 - Loss: 0.0046\n",
            "Epoch 30/100 - Loss: 0.0045\n",
            "Epoch 31/100 - Loss: 0.0044\n",
            "Epoch 32/100 - Loss: 0.0044\n",
            "Epoch 33/100 - Loss: 0.0044\n",
            "Epoch 34/100 - Loss: 0.0043\n",
            "Epoch 35/100 - Loss: 0.0043\n",
            "Epoch 36/100 - Loss: 0.0042\n",
            "Epoch 37/100 - Loss: 0.0042\n",
            "Epoch 38/100 - Loss: 0.0041\n",
            "Epoch 39/100 - Loss: 0.0041\n",
            "Epoch 40/100 - Loss: 0.0040\n",
            "Epoch 41/100 - Loss: 0.0040\n",
            "Epoch 42/100 - Loss: 0.0040\n",
            "Epoch 43/100 - Loss: 0.0039\n",
            "Epoch 44/100 - Loss: 0.0039\n",
            "Epoch 45/100 - Loss: 0.0038\n",
            "Epoch 46/100 - Loss: 0.0038\n",
            "Epoch 47/100 - Loss: 0.0038\n",
            "Epoch 48/100 - Loss: 0.0037\n",
            "Epoch 49/100 - Loss: 0.0037\n",
            "Epoch 50/100 - Loss: 0.0036\n",
            "Epoch 51/100 - Loss: 0.0036\n",
            "Epoch 52/100 - Loss: 0.0036\n",
            "Epoch 53/100 - Loss: 0.0036\n",
            "Epoch 54/100 - Loss: 0.0035\n",
            "Epoch 55/100 - Loss: 0.0035\n",
            "Epoch 56/100 - Loss: 0.0035\n",
            "Epoch 57/100 - Loss: 0.0034\n",
            "Epoch 58/100 - Loss: 0.0034\n",
            "Epoch 59/100 - Loss: 0.0034\n",
            "Epoch 60/100 - Loss: 0.0034\n",
            "Epoch 61/100 - Loss: 0.0034\n",
            "Epoch 62/100 - Loss: 0.0035\n",
            "Epoch 63/100 - Loss: 0.0034\n",
            "Epoch 64/100 - Loss: 0.0035\n",
            "Epoch 65/100 - Loss: 0.0033\n",
            "Epoch 66/100 - Loss: 0.0033\n",
            "Epoch 67/100 - Loss: 0.0033\n",
            "Epoch 68/100 - Loss: 0.0033\n",
            "Epoch 69/100 - Loss: 0.0032\n",
            "Epoch 70/100 - Loss: 0.0033\n",
            "Epoch 71/100 - Loss: 0.0032\n",
            "Epoch 72/100 - Loss: 0.0033\n",
            "Epoch 73/100 - Loss: 0.0032\n",
            "Epoch 74/100 - Loss: 0.0032\n",
            "Epoch 75/100 - Loss: 0.0032\n",
            "Epoch 76/100 - Loss: 0.0031\n",
            "Epoch 77/100 - Loss: 0.0031\n",
            "Epoch 78/100 - Loss: 0.0031\n",
            "Epoch 79/100 - Loss: 0.0031\n",
            "Epoch 80/100 - Loss: 0.0031\n",
            "Epoch 81/100 - Loss: 0.0031\n",
            "Epoch 82/100 - Loss: 0.0031\n",
            "Epoch 83/100 - Loss: 0.0031\n",
            "Epoch 84/100 - Loss: 0.0031\n",
            "Epoch 85/100 - Loss: 0.0030\n",
            "Epoch 86/100 - Loss: 0.0030\n",
            "Epoch 87/100 - Loss: 0.0030\n",
            "Epoch 88/100 - Loss: 0.0031\n",
            "Epoch 89/100 - Loss: 0.0030\n",
            "Epoch 90/100 - Loss: 0.0030\n",
            "Epoch 91/100 - Loss: 0.0029\n",
            "Epoch 92/100 - Loss: 0.0030\n",
            "Epoch 93/100 - Loss: 0.0029\n",
            "Epoch 94/100 - Loss: 0.0029\n",
            "Epoch 95/100 - Loss: 0.0029\n",
            "Epoch 96/100 - Loss: 0.0029\n",
            "Epoch 97/100 - Loss: 0.0029\n",
            "Epoch 98/100 - Loss: 0.0029\n",
            "Epoch 99/100 - Loss: 0.0028\n",
            "Epoch 100/100 - Loss: 0.0029\n"
          ]
        }
      ]
    },
    {
      "cell_type": "code",
      "source": [
        "res = []\n",
        "for i, (inputs, targets) in enumerate(test_loader):\n",
        "    # Get future predictions\n",
        "    lstm_model.eval()\n",
        "    with torch.no_grad():\n",
        "        predicted_output = lstm_model(inputs.to(device))\n",
        "\n",
        "    res.append(scaler_pred.inverse_transform(predicted_output)[0][0])"
      ],
      "metadata": {
        "id": "svtPcFs0f-Zu"
      },
      "execution_count": null,
      "outputs": []
    },
    {
      "cell_type": "code",
      "source": [
        "res_train = []\n",
        "for i, (inputs, targets) in enumerate(train_loader):\n",
        "    # Get train historical predictions\n",
        "    lstm_model.eval()\n",
        "    with torch.no_grad():\n",
        "        predicted_train_output = lstm_model(inputs.to(device))\n",
        "    res_train.append(scaler_pred.inverse_transform(predicted_train_output)[0][0])\n",
        "     "
      ],
      "metadata": {
        "id": "byqP-sgHU1t3"
      },
      "execution_count": null,
      "outputs": []
    },
    {
      "cell_type": "code",
      "source": [
        "new_res_train = [0.18,0.18,0.18,0.18,0.18,0.18,0.18]\n",
        "new_res = [0.06,0.06,0.06,0.06,0.06,0.06,0.06]"
      ],
      "metadata": {
        "id": "Hnyax_-2qlWY"
      },
      "execution_count": null,
      "outputs": []
    },
    {
      "cell_type": "code",
      "source": [
        "# adding first 7 days missing data\n",
        "for i in res:\n",
        "  new_res.append(i)"
      ],
      "metadata": {
        "id": "GFpz8cIWq7Q9"
      },
      "execution_count": null,
      "outputs": []
    },
    {
      "cell_type": "code",
      "source": [
        "# adding first 7 days missing data\n",
        "for i in res_train:\n",
        "  new_res_train.append(i)"
      ],
      "metadata": {
        "id": "CaocE48KtCON"
      },
      "execution_count": null,
      "outputs": []
    },
    {
      "cell_type": "code",
      "source": [
        "plt.plot(agg_df['Date'],Close_list)\n",
        "plt.plot(agg_df['Date'][:len(new_res_train)],new_res_train)\n",
        "plt.plot(agg_df['Date'][len(new_res_train):],new_res)\n",
        "plt.suptitle('Time-Series Prediction')\n",
        "plt.show()"
      ],
      "metadata": {
        "colab": {
          "base_uri": "https://localhost:8080/",
          "height": 478
        },
        "id": "g48Rp6xvievj",
        "outputId": "06b86580-d092-4ce1-8e9b-18df2a7d40d7"
      },
      "execution_count": null,
      "outputs": [
        {
          "output_type": "display_data",
          "data": {
            "text/plain": [
              "<Figure size 640x480 with 1 Axes>"
            ],
            "image/png": "[encoded data removed]"
          },
          "metadata": {}
        }
      ]
    },
    {
      "cell_type": "code",
      "source": [
        "forecast_df = final_df.reset_index()[['Date','Close']]"
      ],
      "metadata": {
        "id": "zNzk356H6lbo"
      },
      "execution_count": null,
      "outputs": []
    },
    {
      "cell_type": "code",
      "source": [
        "forecast_df"
      ],
      "metadata": {
        "colab": {
          "base_uri": "https://localhost:8080/",
          "height": 423
        },
        "id": "7JpeOUHogmxt",
        "outputId": "5637b481-31fa-4914-cc57-730261bde1e5"
      },
      "execution_count": null,
      "outputs": [
        {
          "output_type": "execute_result",
          "data": {
            "text/plain": [
              "          Date     Close\n",
              "0   2022-01-01  0.173035\n",
              "1   2022-01-02  0.174403\n",
              "2   2022-01-03  0.170088\n",
              "3   2022-01-04  0.168803\n",
              "4   2022-01-05  0.159420\n",
              "..         ...       ...\n",
              "359 2022-12-26  0.075783\n",
              "360 2022-12-27  0.073724\n",
              "361 2022-12-28  0.070381\n",
              "362 2022-12-29  0.071042\n",
              "363 2022-12-30  0.068404\n",
              "\n",
              "[364 rows x 2 columns]"
            ],
            "text/html": [
              "\n",
              "  <div id=\"df-ee919ea0-c5e7-4129-b4b7-af690df0d32a\">\n",
              "    <div class=\"colab-df-container\">\n",
              "      <div>\n",
              "<style scoped>\n",
              "    .dataframe tbody tr th:only-of-type {\n",
              "        vertical-align: middle;\n",
              "    }\n",
              "\n",
              "    .dataframe tbody tr th {\n",
              "        vertical-align: top;\n",
              "    }\n",
              "\n",
              "    .dataframe thead th {\n",
              "        text-align: right;\n",
              "    }\n",
              "</style>\n",
              "<table border=\"1\" class=\"dataframe\">\n",
              "  <thead>\n",
              "    <tr style=\"text-align: right;\">\n",
              "      <th></th>\n",
              "      <th>Date</th>\n",
              "      <th>Close</th>\n",
              "    </tr>\n",
              "  </thead>\n",
              "  <tbody>\n",
              "    <tr>\n",
              "      <th>0</th>\n",
              "      <td>2022-01-01</td>\n",
              "      <td>0.173035</td>\n",
              "    </tr>\n",
              "    <tr>\n",
              "      <th>1</th>\n",
              "      <td>2022-01-02</td>\n",
              "      <td>0.174403</td>\n",
              "    </tr>\n",
              "    <tr>\n",
              "      <th>2</th>\n",
              "      <td>2022-01-03</td>\n",
              "      <td>0.170088</td>\n",
              "    </tr>\n",
              "    <tr>\n",
              "      <th>3</th>\n",
              "      <td>2022-01-04</td>\n",
              "      <td>0.168803</td>\n",
              "    </tr>\n",
              "    <tr>\n",
              "      <th>4</th>\n",
              "      <td>2022-01-05</td>\n",
              "      <td>0.159420</td>\n",
              "    </tr>\n",
              "    <tr>\n",
              "      <th>...</th>\n",
              "      <td>...</td>\n",
              "      <td>...</td>\n",
              "    </tr>\n",
              "    <tr>\n",
              "      <th>359</th>\n",
              "      <td>2022-12-26</td>\n",
              "      <td>0.075783</td>\n",
              "    </tr>\n",
              "    <tr>\n",
              "      <th>360</th>\n",
              "      <td>2022-12-27</td>\n",
              "      <td>0.073724</td>\n",
              "    </tr>\n",
              "    <tr>\n",
              "      <th>361</th>\n",
              "      <td>2022-12-28</td>\n",
              "      <td>0.070381</td>\n",
              "    </tr>\n",
              "    <tr>\n",
              "      <th>362</th>\n",
              "      <td>2022-12-29</td>\n",
              "      <td>0.071042</td>\n",
              "    </tr>\n",
              "    <tr>\n",
              "      <th>363</th>\n",
              "      <td>2022-12-30</td>\n",
              "      <td>0.068404</td>\n",
              "    </tr>\n",
              "  </tbody>\n",
              "</table>\n",
              "<p>364 rows × 2 columns</p>\n",
              "</div>\n",
              "      <button class=\"colab-df-convert\" onclick=\"convertToInteractive('df-ee919ea0-c5e7-4129-b4b7-af690df0d32a')\"\n",
              "              title=\"Convert this dataframe to an interactive table.\"\n",
              "              style=\"display:none;\">\n",
              "        \n",
              "  <svg xmlns=\"http://www.w3.org/2000/svg\" height=\"24px\"viewBox=\"0 0 24 24\"\n",
              "       width=\"24px\">\n",
              "    <path d=\"M0 0h24v24H0V0z\" fill=\"none\"/>\n",
              "    <path d=\"M18.56 5.44l.94 2.06.94-2.06 2.06-.94-2.06-.94-.94-2.06-.94 2.06-2.06.94zm-11 1L8.5 8.5l.94-2.06 2.06-.94-2.06-.94L8.5 2.5l-.94 2.06-2.06.94zm10 10l.94 2.06.94-2.06 2.06-.94-2.06-.94-.94-2.06-.94 2.06-2.06.94z\"/><path d=\"M17.41 7.96l-1.37-1.37c-.4-.4-.92-.59-1.43-.59-.52 0-1.04.2-1.43.59L10.3 9.45l-7.72 7.72c-.78.78-.78 2.05 0 2.83L4 21.41c.39.39.9.59 1.41.59.51 0 1.02-.2 1.41-.59l7.78-7.78 2.81-2.81c.8-.78.8-2.07 0-2.86zM5.41 20L4 18.59l7.72-7.72 1.47 1.35L5.41 20z\"/>\n",
              "  </svg>\n",
              "      </button>\n",
              "      \n",
              "  <style>\n",
              "    .colab-df-container {\n",
              "      display:flex;\n",
              "      flex-wrap:wrap;\n",
              "      gap: 12px;\n",
              "    }\n",
              "\n",
              "    .colab-df-convert {\n",
              "      background-color: #E8F0FE;\n",
              "      border: none;\n",
              "      border-radius: 50%;\n",
              "      cursor: pointer;\n",
              "      display: none;\n",
              "      fill: #1967D2;\n",
              "      height: 32px;\n",
              "      padding: 0 0 0 0;\n",
              "      width: 32px;\n",
              "    }\n",
              "\n",
              "    .colab-df-convert:hover {\n",
              "      background-color: #E2EBFA;\n",
              "      box-shadow: 0px 1px 2px rgba(60, 64, 67, 0.3), 0px 1px 3px 1px rgba(60, 64, 67, 0.15);\n",
              "      fill: #174EA6;\n",
              "    }\n",
              "\n",
              "    [theme=dark] .colab-df-convert {\n",
              "      background-color: #3B4455;\n",
              "      fill: #D2E3FC;\n",
              "    }\n",
              "\n",
              "    [theme=dark] .colab-df-convert:hover {\n",
              "      background-color: #434B5C;\n",
              "      box-shadow: 0px 1px 3px 1px rgba(0, 0, 0, 0.15);\n",
              "      filter: drop-shadow(0px 1px 2px rgba(0, 0, 0, 0.3));\n",
              "      fill: #FFFFFF;\n",
              "    }\n",
              "  </style>\n",
              "\n",
              "      <script>\n",
              "        const buttonEl =\n",
              "          document.querySelector('#df-ee919ea0-c5e7-4129-b4b7-af690df0d32a button.colab-df-convert');\n",
              "        buttonEl.style.display =\n",
              "          google.colab.kernel.accessAllowed ? 'block' : 'none';\n",
              "\n",
              "        async function convertToInteractive(key) {\n",
              "          const element = document.querySelector('#df-ee919ea0-c5e7-4129-b4b7-af690df0d32a');\n",
              "          const dataTable =\n",
              "            await google.colab.kernel.invokeFunction('convertToInteractive',\n",
              "                                                     [key], {});\n",
              "          if (!dataTable) return;\n",
              "\n",
              "          const docLinkHtml = 'Like what you see? Visit the ' +\n",
              "            '<a target=\"_blank\" href=https://colab.research.google.com/notebooks/data_table.ipynb>data table notebook</a>'\n",
              "            + ' to learn more about interactive tables.';\n",
              "          element.innerHTML = '';\n",
              "          dataTable['output_type'] = 'display_data';\n",
              "          await google.colab.output.renderOutput(dataTable, element);\n",
              "          const docLink = document.createElement('div');\n",
              "          docLink.innerHTML = docLinkHtml;\n",
              "          element.appendChild(docLink);\n",
              "        }\n",
              "      </script>\n",
              "    </div>\n",
              "  </div>\n",
              "  "
            ]
          },
          "metadata": {},
          "execution_count": 59
        }
      ]
    },
    {
      "cell_type": "code",
      "source": [
        "final_results_train=new_res_train + [None]*110"
      ],
      "metadata": {
        "id": "c4CsoVC6f3Eo"
      },
      "execution_count": null,
      "outputs": []
    },
    {
      "cell_type": "code",
      "source": [
        "final_results_test=[None]*254 + new_res"
      ],
      "metadata": {
        "id": "gTeI3_wYuZ0a"
      },
      "execution_count": null,
      "outputs": []
    },
    {
      "cell_type": "code",
      "source": [
        "forecast_df['Results_train'] = final_results_train"
      ],
      "metadata": {
        "id": "cjv68jn3D2NT"
      },
      "execution_count": null,
      "outputs": []
    },
    {
      "cell_type": "code",
      "source": [
        "forecast_df['Results_test'] = final_results_test"
      ],
      "metadata": {
        "id": "LVa4pBGYt0DT"
      },
      "execution_count": null,
      "outputs": []
    },
    {
      "cell_type": "code",
      "source": [
        "forecast_df.drop(columns=['Results'],inplace=True,axis=1)"
      ],
      "metadata": {
        "id": "jeukP8f8uoLo"
      },
      "execution_count": null,
      "outputs": []
    },
    {
      "cell_type": "code",
      "source": [
        "forecast_df"
      ],
      "metadata": {
        "colab": {
          "base_uri": "https://localhost:8080/",
          "height": 423
        },
        "id": "NpQDdonCvEVZ",
        "outputId": "a61066fb-3a05-4977-e3f7-6d68a1e178bf"
      },
      "execution_count": null,
      "outputs": [
        {
          "output_type": "execute_result",
          "data": {
            "text/plain": [
              "          Date     Close  Results_train  Results_test\n",
              "0   2022-01-01  0.173035           0.18           NaN\n",
              "1   2022-01-02  0.174403           0.18           NaN\n",
              "2   2022-01-03  0.170088           0.18           NaN\n",
              "3   2022-01-04  0.168803           0.18           NaN\n",
              "4   2022-01-05  0.159420           0.18           NaN\n",
              "..         ...       ...            ...           ...\n",
              "359 2022-12-26  0.075783            NaN      0.074040\n",
              "360 2022-12-27  0.073724            NaN      0.072957\n",
              "361 2022-12-28  0.070381            NaN      0.070109\n",
              "362 2022-12-29  0.071042            NaN      0.070505\n",
              "363 2022-12-30  0.068404            NaN      0.070431\n",
              "\n",
              "[364 rows x 4 columns]"
            ],
            "text/html": [
              "\n",
              "  <div id=\"df-ca862f33-994c-4b70-a22c-074fbcd00447\">\n",
              "    <div class=\"colab-df-container\">\n",
              "      <div>\n",
              "<style scoped>\n",
              "    .dataframe tbody tr th:only-of-type {\n",
              "        vertical-align: middle;\n",
              "    }\n",
              "\n",
              "    .dataframe tbody tr th {\n",
              "        vertical-align: top;\n",
              "    }\n",
              "\n",
              "    .dataframe thead th {\n",
              "        text-align: right;\n",
              "    }\n",
              "</style>\n",
              "<table border=\"1\" class=\"dataframe\">\n",
              "  <thead>\n",
              "    <tr style=\"text-align: right;\">\n",
              "      <th></th>\n",
              "      <th>Date</th>\n",
              "      <th>Close</th>\n",
              "      <th>Results_train</th>\n",
              "      <th>Results_test</th>\n",
              "    </tr>\n",
              "  </thead>\n",
              "  <tbody>\n",
              "    <tr>\n",
              "      <th>0</th>\n",
              "      <td>2022-01-01</td>\n",
              "      <td>0.173035</td>\n",
              "      <td>0.18</td>\n",
              "      <td>NaN</td>\n",
              "    </tr>\n",
              "    <tr>\n",
              "      <th>1</th>\n",
              "      <td>2022-01-02</td>\n",
              "      <td>0.174403</td>\n",
              "      <td>0.18</td>\n",
              "      <td>NaN</td>\n",
              "    </tr>\n",
              "    <tr>\n",
              "      <th>2</th>\n",
              "      <td>2022-01-03</td>\n",
              "      <td>0.170088</td>\n",
              "      <td>0.18</td>\n",
              "      <td>NaN</td>\n",
              "    </tr>\n",
              "    <tr>\n",
              "      <th>3</th>\n",
              "      <td>2022-01-04</td>\n",
              "      <td>0.168803</td>\n",
              "      <td>0.18</td>\n",
              "      <td>NaN</td>\n",
              "    </tr>\n",
              "    <tr>\n",
              "      <th>4</th>\n",
              "      <td>2022-01-05</td>\n",
              "      <td>0.159420</td>\n",
              "      <td>0.18</td>\n",
              "      <td>NaN</td>\n",
              "    </tr>\n",
              "    <tr>\n",
              "      <th>...</th>\n",
              "      <td>...</td>\n",
              "      <td>...</td>\n",
              "      <td>...</td>\n",
              "      <td>...</td>\n",
              "    </tr>\n",
              "    <tr>\n",
              "      <th>359</th>\n",
              "      <td>2022-12-26</td>\n",
              "      <td>0.075783</td>\n",
              "      <td>NaN</td>\n",
              "      <td>0.074040</td>\n",
              "    </tr>\n",
              "    <tr>\n",
              "      <th>360</th>\n",
              "      <td>2022-12-27</td>\n",
              "      <td>0.073724</td>\n",
              "      <td>NaN</td>\n",
              "      <td>0.072957</td>\n",
              "    </tr>\n",
              "    <tr>\n",
              "      <th>361</th>\n",
              "      <td>2022-12-28</td>\n",
              "      <td>0.070381</td>\n",
              "      <td>NaN</td>\n",
              "      <td>0.070109</td>\n",
              "    </tr>\n",
              "    <tr>\n",
              "      <th>362</th>\n",
              "      <td>2022-12-29</td>\n",
              "      <td>0.071042</td>\n",
              "      <td>NaN</td>\n",
              "      <td>0.070505</td>\n",
              "    </tr>\n",
              "    <tr>\n",
              "      <th>363</th>\n",
              "      <td>2022-12-30</td>\n",
              "      <td>0.068404</td>\n",
              "      <td>NaN</td>\n",
              "      <td>0.070431</td>\n",
              "    </tr>\n",
              "  </tbody>\n",
              "</table>\n",
              "<p>364 rows × 4 columns</p>\n",
              "</div>\n",
              "      <button class=\"colab-df-convert\" onclick=\"convertToInteractive('df-ca862f33-994c-4b70-a22c-074fbcd00447')\"\n",
              "              title=\"Convert this dataframe to an interactive table.\"\n",
              "              style=\"display:none;\">\n",
              "        \n",
              "  <svg xmlns=\"http://www.w3.org/2000/svg\" height=\"24px\"viewBox=\"0 0 24 24\"\n",
              "       width=\"24px\">\n",
              "    <path d=\"M0 0h24v24H0V0z\" fill=\"none\"/>\n",
              "    <path d=\"M18.56 5.44l.94 2.06.94-2.06 2.06-.94-2.06-.94-.94-2.06-.94 2.06-2.06.94zm-11 1L8.5 8.5l.94-2.06 2.06-.94-2.06-.94L8.5 2.5l-.94 2.06-2.06.94zm10 10l.94 2.06.94-2.06 2.06-.94-2.06-.94-.94-2.06-.94 2.06-2.06.94z\"/><path d=\"M17.41 7.96l-1.37-1.37c-.4-.4-.92-.59-1.43-.59-.52 0-1.04.2-1.43.59L10.3 9.45l-7.72 7.72c-.78.78-.78 2.05 0 2.83L4 21.41c.39.39.9.59 1.41.59.51 0 1.02-.2 1.41-.59l7.78-7.78 2.81-2.81c.8-.78.8-2.07 0-2.86zM5.41 20L4 18.59l7.72-7.72 1.47 1.35L5.41 20z\"/>\n",
              "  </svg>\n",
              "      </button>\n",
              "      \n",
              "  <style>\n",
              "    .colab-df-container {\n",
              "      display:flex;\n",
              "      flex-wrap:wrap;\n",
              "      gap: 12px;\n",
              "    }\n",
              "\n",
              "    .colab-df-convert {\n",
              "      background-color: #E8F0FE;\n",
              "      border: none;\n",
              "      border-radius: 50%;\n",
              "      cursor: pointer;\n",
              "      display: none;\n",
              "      fill: #1967D2;\n",
              "      height: 32px;\n",
              "      padding: 0 0 0 0;\n",
              "      width: 32px;\n",
              "    }\n",
              "\n",
              "    .colab-df-convert:hover {\n",
              "      background-color: #E2EBFA;\n",
              "      box-shadow: 0px 1px 2px rgba(60, 64, 67, 0.3), 0px 1px 3px 1px rgba(60, 64, 67, 0.15);\n",
              "      fill: #174EA6;\n",
              "    }\n",
              "\n",
              "    [theme=dark] .colab-df-convert {\n",
              "      background-color: #3B4455;\n",
              "      fill: #D2E3FC;\n",
              "    }\n",
              "\n",
              "    [theme=dark] .colab-df-convert:hover {\n",
              "      background-color: #434B5C;\n",
              "      box-shadow: 0px 1px 3px 1px rgba(0, 0, 0, 0.15);\n",
              "      filter: drop-shadow(0px 1px 2px rgba(0, 0, 0, 0.3));\n",
              "      fill: #FFFFFF;\n",
              "    }\n",
              "  </style>\n",
              "\n",
              "      <script>\n",
              "        const buttonEl =\n",
              "          document.querySelector('#df-ca862f33-994c-4b70-a22c-074fbcd00447 button.colab-df-convert');\n",
              "        buttonEl.style.display =\n",
              "          google.colab.kernel.accessAllowed ? 'block' : 'none';\n",
              "\n",
              "        async function convertToInteractive(key) {\n",
              "          const element = document.querySelector('#df-ca862f33-994c-4b70-a22c-074fbcd00447');\n",
              "          const dataTable =\n",
              "            await google.colab.kernel.invokeFunction('convertToInteractive',\n",
              "                                                     [key], {});\n",
              "          if (!dataTable) return;\n",
              "\n",
              "          const docLinkHtml = 'Like what you see? Visit the ' +\n",
              "            '<a target=\"_blank\" href=https://colab.research.google.com/notebooks/data_table.ipynb>data table notebook</a>'\n",
              "            + ' to learn more about interactive tables.';\n",
              "          element.innerHTML = '';\n",
              "          dataTable['output_type'] = 'display_data';\n",
              "          await google.colab.output.renderOutput(dataTable, element);\n",
              "          const docLink = document.createElement('div');\n",
              "          docLink.innerHTML = docLinkHtml;\n",
              "          element.appendChild(docLink);\n",
              "        }\n",
              "      </script>\n",
              "    </div>\n",
              "  </div>\n",
              "  "
            ]
          },
          "metadata": {},
          "execution_count": 69
        }
      ]
    },
    {
      "cell_type": "code",
      "source": [
        "forecast_df.to_csv('forecast2022_split.csv')"
      ],
      "metadata": {
        "id": "MXNZ3lXMt4kq"
      },
      "execution_count": null,
      "outputs": []
    },
    {
      "cell_type": "code",
      "source": [
        "# MSE in test data\n",
        "\n",
        "import pandas as pd\n",
        "import numpy as np\n",
        "import matplotlib.pyplot as plt\n",
        "\n",
        "f1 = pd.read_csv('/content/forecast2020_split.csv')\n",
        "f2 = pd.read_csv('/content/forecast2021_split.csv')\n",
        "f3 = pd.read_csv('/content/forecast2022_split.csv')"
      ],
      "metadata": {
        "id": "p2yfqDu66jSt"
      },
      "execution_count": 17,
      "outputs": []
    },
    {
      "cell_type": "code",
      "source": [
        "f1.head()"
      ],
      "metadata": {
        "colab": {
          "base_uri": "https://localhost:8080/",
          "height": 206
        },
        "id": "5dLumIGZ7EDS",
        "outputId": "bb3bf1ba-8bba-4651-f537-3a222908274c"
      },
      "execution_count": 12,
      "outputs": [
        {
          "output_type": "execute_result",
          "data": {
            "text/plain": [
              "   Unnamed: 0        Date     Close  Results_train  Results_test\n",
              "0           0  2020-01-01  0.002033          0.002           NaN\n",
              "1           1  2020-01-03  0.002145          0.002           NaN\n",
              "2           2  2020-01-04  0.002241          0.002           NaN\n",
              "3           3  2020-01-05  0.002419          0.002           NaN\n",
              "4           4  2020-01-06  0.002463          0.002           NaN"
            ],
            "text/html": [
              "\n",
              "  <div id=\"df-c396a9f3-98ef-4873-a24f-d57fdeff3f55\">\n",
              "    <div class=\"colab-df-container\">\n",
              "      <div>\n",
              "<style scoped>\n",
              "    .dataframe tbody tr th:only-of-type {\n",
              "        vertical-align: middle;\n",
              "    }\n",
              "\n",
              "    .dataframe tbody tr th {\n",
              "        vertical-align: top;\n",
              "    }\n",
              "\n",
              "    .dataframe thead th {\n",
              "        text-align: right;\n",
              "    }\n",
              "</style>\n",
              "<table border=\"1\" class=\"dataframe\">\n",
              "  <thead>\n",
              "    <tr style=\"text-align: right;\">\n",
              "      <th></th>\n",
              "      <th>Unnamed: 0</th>\n",
              "      <th>Date</th>\n",
              "      <th>Close</th>\n",
              "      <th>Results_train</th>\n",
              "      <th>Results_test</th>\n",
              "    </tr>\n",
              "  </thead>\n",
              "  <tbody>\n",
              "    <tr>\n",
              "      <th>0</th>\n",
              "      <td>0</td>\n",
              "      <td>2020-01-01</td>\n",
              "      <td>0.002033</td>\n",
              "      <td>0.002</td>\n",
              "      <td>NaN</td>\n",
              "    </tr>\n",
              "    <tr>\n",
              "      <th>1</th>\n",
              "      <td>1</td>\n",
              "      <td>2020-01-03</td>\n",
              "      <td>0.002145</td>\n",
              "      <td>0.002</td>\n",
              "      <td>NaN</td>\n",
              "    </tr>\n",
              "    <tr>\n",
              "      <th>2</th>\n",
              "      <td>2</td>\n",
              "      <td>2020-01-04</td>\n",
              "      <td>0.002241</td>\n",
              "      <td>0.002</td>\n",
              "      <td>NaN</td>\n",
              "    </tr>\n",
              "    <tr>\n",
              "      <th>3</th>\n",
              "      <td>3</td>\n",
              "      <td>2020-01-05</td>\n",
              "      <td>0.002419</td>\n",
              "      <td>0.002</td>\n",
              "      <td>NaN</td>\n",
              "    </tr>\n",
              "    <tr>\n",
              "      <th>4</th>\n",
              "      <td>4</td>\n",
              "      <td>2020-01-06</td>\n",
              "      <td>0.002463</td>\n",
              "      <td>0.002</td>\n",
              "      <td>NaN</td>\n",
              "    </tr>\n",
              "  </tbody>\n",
              "</table>\n",
              "</div>\n",
              "      <button class=\"colab-df-convert\" onclick=\"convertToInteractive('df-c396a9f3-98ef-4873-a24f-d57fdeff3f55')\"\n",
              "              title=\"Convert this dataframe to an interactive table.\"\n",
              "              style=\"display:none;\">\n",
              "        \n",
              "  <svg xmlns=\"http://www.w3.org/2000/svg\" height=\"24px\"viewBox=\"0 0 24 24\"\n",
              "       width=\"24px\">\n",
              "    <path d=\"M0 0h24v24H0V0z\" fill=\"none\"/>\n",
              "    <path d=\"M18.56 5.44l.94 2.06.94-2.06 2.06-.94-2.06-.94-.94-2.06-.94 2.06-2.06.94zm-11 1L8.5 8.5l.94-2.06 2.06-.94-2.06-.94L8.5 2.5l-.94 2.06-2.06.94zm10 10l.94 2.06.94-2.06 2.06-.94-2.06-.94-.94-2.06-.94 2.06-2.06.94z\"/><path d=\"M17.41 7.96l-1.37-1.37c-.4-.4-.92-.59-1.43-.59-.52 0-1.04.2-1.43.59L10.3 9.45l-7.72 7.72c-.78.78-.78 2.05 0 2.83L4 21.41c.39.39.9.59 1.41.59.51 0 1.02-.2 1.41-.59l7.78-7.78 2.81-2.81c.8-.78.8-2.07 0-2.86zM5.41 20L4 18.59l7.72-7.72 1.47 1.35L5.41 20z\"/>\n",
              "  </svg>\n",
              "      </button>\n",
              "      \n",
              "  <style>\n",
              "    .colab-df-container {\n",
              "      display:flex;\n",
              "      flex-wrap:wrap;\n",
              "      gap: 12px;\n",
              "    }\n",
              "\n",
              "    .colab-df-convert {\n",
              "      background-color: #E8F0FE;\n",
              "      border: none;\n",
              "      border-radius: 50%;\n",
              "      cursor: pointer;\n",
              "      display: none;\n",
              "      fill: #1967D2;\n",
              "      height: 32px;\n",
              "      padding: 0 0 0 0;\n",
              "      width: 32px;\n",
              "    }\n",
              "\n",
              "    .colab-df-convert:hover {\n",
              "      background-color: #E2EBFA;\n",
              "      box-shadow: 0px 1px 2px rgba(60, 64, 67, 0.3), 0px 1px 3px 1px rgba(60, 64, 67, 0.15);\n",
              "      fill: #174EA6;\n",
              "    }\n",
              "\n",
              "    [theme=dark] .colab-df-convert {\n",
              "      background-color: #3B4455;\n",
              "      fill: #D2E3FC;\n",
              "    }\n",
              "\n",
              "    [theme=dark] .colab-df-convert:hover {\n",
              "      background-color: #434B5C;\n",
              "      box-shadow: 0px 1px 3px 1px rgba(0, 0, 0, 0.15);\n",
              "      filter: drop-shadow(0px 1px 2px rgba(0, 0, 0, 0.3));\n",
              "      fill: #FFFFFF;\n",
              "    }\n",
              "  </style>\n",
              "\n",
              "      <script>\n",
              "        const buttonEl =\n",
              "          document.querySelector('#df-c396a9f3-98ef-4873-a24f-d57fdeff3f55 button.colab-df-convert');\n",
              "        buttonEl.style.display =\n",
              "          google.colab.kernel.accessAllowed ? 'block' : 'none';\n",
              "\n",
              "        async function convertToInteractive(key) {\n",
              "          const element = document.querySelector('#df-c396a9f3-98ef-4873-a24f-d57fdeff3f55');\n",
              "          const dataTable =\n",
              "            await google.colab.kernel.invokeFunction('convertToInteractive',\n",
              "                                                     [key], {});\n",
              "          if (!dataTable) return;\n",
              "\n",
              "          const docLinkHtml = 'Like what you see? Visit the ' +\n",
              "            '<a target=\"_blank\" href=https://colab.research.google.com/notebooks/data_table.ipynb>data table notebook</a>'\n",
              "            + ' to learn more about interactive tables.';\n",
              "          element.innerHTML = '';\n",
              "          dataTable['output_type'] = 'display_data';\n",
              "          await google.colab.output.renderOutput(dataTable, element);\n",
              "          const docLink = document.createElement('div');\n",
              "          docLink.innerHTML = docLinkHtml;\n",
              "          element.appendChild(docLink);\n",
              "        }\n",
              "      </script>\n",
              "    </div>\n",
              "  </div>\n",
              "  "
            ]
          },
          "metadata": {},
          "execution_count": 12
        }
      ]
    },
    {
      "cell_type": "code",
      "source": [
        "f1['Results_test'][237:]"
      ],
      "metadata": {
        "id": "78JFZiiJ7Xnz"
      },
      "execution_count": null,
      "outputs": []
    },
    {
      "cell_type": "code",
      "source": [
        "from sklearn.metrics import mean_squared_error\n",
        "from sklearn.metrics import mean_absolute_error as mae\n",
        "\n",
        "# Calculation of Mean Squared Error (MSE)\n",
        "\n",
        "print('MSE 2020:',mean_squared_error(f1['Close'][237:],f1['Results_test'][237:]))\n",
        "print('MAE 2020:',mae(f1['Close'][237:],f1['Results_test'][237:]))"
      ],
      "metadata": {
        "colab": {
          "base_uri": "https://localhost:8080/"
        },
        "id": "NwaNGBsS65SR",
        "outputId": "d3db63de-941b-41aa-cb66-8ceb532e3751"
      },
      "execution_count": 75,
      "outputs": [
        {
          "output_type": "stream",
          "name": "stdout",
          "text": [
            "MSE 2020: 1.0779288777917702e-07\n",
            "MAE 2020: 0.00026554658283036564\n"
          ]
        }
      ]
    },
    {
      "cell_type": "code",
      "source": [
        "\n",
        "print('MSE 2021:',mean_squared_error(f2['Close'][252:],f2['Results_test'][252:]))\n",
        "print('MAE 2021:',mae(f2['Close'][252:],f2['Results_test'][252:]))"
      ],
      "metadata": {
        "id": "1_xTEj38652u",
        "colab": {
          "base_uri": "https://localhost:8080/"
        },
        "outputId": "79759b72-f4d5-418a-91ab-ff9cb751fb4c"
      },
      "execution_count": 72,
      "outputs": [
        {
          "output_type": "stream",
          "name": "stdout",
          "text": [
            "MSE 2021: 0.0006844602525335133\n",
            "MAE 2021: 0.020789634938512797\n"
          ]
        }
      ]
    },
    {
      "cell_type": "code",
      "source": [
        "\n",
        "print('MSE 2022:',mean_squared_error(f3['Close'][254:],f3['Results_test'][254:]))\n",
        "print('MAE 2022:',mae(f3['Close'][254:],f3['Results_test'][254:]))"
      ],
      "metadata": {
        "colab": {
          "base_uri": "https://localhost:8080/"
        },
        "id": "3YMoIrEX9hQu",
        "outputId": "abb1b4ae-d023-4e0f-c524-c2f919d86ad6"
      },
      "execution_count": 77,
      "outputs": [
        {
          "output_type": "stream",
          "name": "stdout",
          "text": [
            "MSE 2022: 0.00015001942092505654\n",
            "MAE 2022: 0.00760051427710969\n"
          ]
        }
      ]
    }
  ]
}